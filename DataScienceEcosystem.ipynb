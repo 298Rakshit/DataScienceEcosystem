{
 "cells": [
  {
   "cell_type": "markdown",
   "id": "e0630bc6-2845-4383-8682-10da589f33d5",
   "metadata": {},
   "source": [
    "# Data Science Tools and Ecosystem"
   ]
  },
  {
   "cell_type": "markdown",
   "id": "2a6ee6d4-6264-426e-8568-7b0447c7b2f8",
   "metadata": {},
   "source": [
    "In this notebook, Data Science Tools and Ecosystem are summarized."
   ]
  },
  {
   "cell_type": "markdown",
   "id": "4c742d56-8aa2-4a56-b9ca-506ea2efc580",
   "metadata": {},
   "source": [
    "Some of the popular languages used by Data Scientists include:\n",
    "\n",
    "1. Python \n",
    "2. R\n",
    "3. SQL \n",
    "4. Java\n",
    "5. C++"
   ]
  },
  {
   "cell_type": "markdown",
   "id": "9dc9ea59-e10e-41bc-b424-37f01d59acfc",
   "metadata": {},
   "source": [
    "Some of the commonly used libraries by Data Scientists include: \n",
    "\n",
    "1. NumPy\n",
    "2. Pandas\n",
    "3. Matplotlib\n",
    "4. Seaborn\n",
    "5. Scikit-learn"
   ]
  },
  {
   "cell_type": "markdown",
   "id": "ecea6284-3f50-46cd-85b1-d4c064f65985",
   "metadata": {},
   "source": [
    "| Data Science Tools   |\r\n",
    "|----------------------|\r\n",
    "| Jupyter Notebook      |\r\n",
    " | RStudio              |\r\n",
    "| Anaconda             |\r\n",
    "| Spyder               |\r\n",
    "| Apache Zeppelin      |\r\n",
    " |\r\n",
    "   |\r\n",
    "ns |"
   ]
  },
  {
   "cell_type": "markdown",
   "id": "43a57640-ad6c-40f7-9348-b34452fde303",
   "metadata": {},
   "source": [
    "### Below are a few examples of evaluating arithmetic expressions in Python.\r\n"
   ]
  },
  {
   "cell_type": "code",
   "execution_count": 88,
   "id": "d49560cc-503b-4894-9f52-6361e3a59ac3",
   "metadata": {},
   "outputs": [
    {
     "data": {
      "text/plain": [
       "17"
      ]
     },
     "execution_count": 88,
     "metadata": {},
     "output_type": "execute_result"
    }
   ],
   "source": [
    "#This is a simple arithmetic expression to multiply then add integers\n",
    "(3*4)+5"
   ]
  },
  {
   "cell_type": "code",
   "execution_count": 90,
   "id": "f9d188e3-ada3-49ed-806e-196356dbeaff",
   "metadata": {},
   "outputs": [
    {
     "data": {
      "text/plain": [
       "3"
      ]
     },
     "execution_count": 90,
     "metadata": {},
     "output_type": "execute_result"
    }
   ],
   "source": [
    "#This will convert 200 minutes to hours by dividing by 60\n",
    "200//60"
   ]
  },
  {
   "cell_type": "markdown",
   "id": "55840f31-cc7c-43d9-962a-d8ec93ad3e83",
   "metadata": {},
   "source": [
    "**Objectives:**\r\n",
    "- Add comments to the code cells\n",
    "- Create markdown cells\n",
    "- Add ordered and unordered lists to markdown cells\n",
    "- Format content of markdown cells with heading styleshods.\r\n"
   ]
  },
  {
   "cell_type": "markdown",
   "id": "36db20d5-d9f2-40c4-82a6-ca2ed6866b86",
   "metadata": {},
   "source": [
    "## Author\r\n",
    "\r\n",
    "Rakshit Mehra\r\n"
   ]
  }
 ],
 "metadata": {
  "kernelspec": {
   "display_name": "Python 3 (ipykernel)",
   "language": "python",
   "name": "python3"
  },
  "language_info": {
   "codemirror_mode": {
    "name": "ipython",
    "version": 3
   },
   "file_extension": ".py",
   "mimetype": "text/x-python",
   "name": "python",
   "nbconvert_exporter": "python",
   "pygments_lexer": "ipython3",
   "version": "3.11.7"
  }
 },
 "nbformat": 4,
 "nbformat_minor": 5
}
