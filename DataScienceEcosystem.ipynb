{
 "cells": [
  {
   "cell_type": "markdown",
   "id": "e0630bc6-2845-4383-8682-10da589f33d5",
   "metadata": {},
   "source": [
    "# Data Science Tools and Ecosystem"
   ]
  },
  {
   "cell_type": "markdown",
   "id": "2a6ee6d4-6264-426e-8568-7b0447c7b2f8",
   "metadata": {},
   "source": [
    "**In this notebook, Data Science Tools and Ecosystem are summarized.**"
   ]
  },
  {
   "cell_type": "markdown",
   "id": "f4fc27b0-bfcc-4269-99ba-62e7f8080043",
   "metadata": {},
   "source": [
    "**Some of the popular languages that Data Scientists use are:**\r\n",
    "\r\n",
    "1. **Python:** Known for its readability and versatility, Python is a go-to language for data science tasks like data cleaning, analysis, and machine learning.\r\n",
    "2. **R:** A statistical computing language, R is particularly strong for statistical analysis, visualization, and data mining.\r\n",
    "3. **SQL:** While primarily used for database management, SQL is essential for data scientists who work with large datasets stored in relational databases.\r\n",
    "4. **Julia:** A relatively new language designed for scientific computing, Julia offers high performance and a syntax similar to Python."
   ]
  },
  {
   "cell_type": "markdown",
   "id": "9dc9ea59-e10e-41bc-b424-37f01d59acfc",
   "metadata": {},
   "source": [
    "**Some of the commonly used libraries by Data Scientists include:**\n",
    "\n",
    "1. **NumPy:** A fundamental library for numerical computing in Python, providing efficient operations on arrays and matrices.\n",
    "2. **Pandas:** Offers powerful data structures and data analysis tools, making it easy to manipulate and analyze data.\n",
    "3. **Matplotlib:** A versatile plotting library for creating a wide range of visualizations, including line plots, scatter plots, histograms, and more.\n",
    "4. **Scikit-learn:** A popular deep learning framework, used for building and training neural networks."
   ]
  },
  {
   "cell_type": "markdown",
   "id": "ecea6284-3f50-46cd-85b1-d4c064f65985",
   "metadata": {},
   "source": [
    "| Data Science Tools       |\r\n",
    "|--------------------------|\r\n",
    "| Jupyter Notebooks         |\r\n",
    "| RStudio                   |\r\n",
    "| Apache Zeppelin           |\r\n",
    "ns |"
   ]
  },
  {
   "cell_type": "markdown",
   "id": "43a57640-ad6c-40f7-9348-b34452fde303",
   "metadata": {},
   "source": [
    "### Below are a few examples of evaluating arithmetic expressions in Python.\r\n"
   ]
  },
  {
   "cell_type": "code",
   "execution_count": 29,
   "id": "d49560cc-503b-4894-9f52-6361e3a59ac3",
   "metadata": {},
   "outputs": [
    {
     "data": {
      "text/plain": [
       "17"
      ]
     },
     "execution_count": 29,
     "metadata": {},
     "output_type": "execute_result"
    }
   ],
   "source": [
    "#This is a simple arithmetic expression to multiply then add integers.\n",
    "(3 * 4) + 5"
   ]
  },
  {
   "cell_type": "code",
   "execution_count": 31,
   "id": "f9d188e3-ada3-49ed-806e-196356dbeaff",
   "metadata": {},
   "outputs": [
    {
     "data": {
      "text/plain": [
       "3.3333333333333335"
      ]
     },
     "execution_count": 31,
     "metadata": {},
     "output_type": "execute_result"
    }
   ],
   "source": [
    "# This will convert 200 minutes to hours by dividing by 60\n",
    "200 / 60"
   ]
  },
  {
   "cell_type": "markdown",
   "id": "55840f31-cc7c-43d9-962a-d8ec93ad3e83",
   "metadata": {},
   "source": [
    "**Objectives:**\r\n",
    "\r\n",
    "- Understand the fundamental concepts of Data Science.\r\n",
    "- List popular programming languages for Data Science.\r\n",
    "- Explore various data visualization techniques.\r\n",
    "- Learn about machine learning algorithms and their applications.\r\n",
    "- Gain insights into data preprocessing and cleaning mehods.\r\n"
   ]
  },
  {
   "cell_type": "markdown",
   "id": "36db20d5-d9f2-40c4-82a6-ca2ed6866b86",
   "metadata": {},
   "source": [
    "## Author\r\n",
    "\r\n",
    "Rakshit Mehra\r\n"
   ]
  }
 ],
 "metadata": {
  "kernelspec": {
   "display_name": "Python 3 (ipykernel)",
   "language": "python",
   "name": "python3"
  },
  "language_info": {
   "codemirror_mode": {
    "name": "ipython",
    "version": 3
   },
   "file_extension": ".py",
   "mimetype": "text/x-python",
   "name": "python",
   "nbconvert_exporter": "python",
   "pygments_lexer": "ipython3",
   "version": "3.11.7"
  }
 },
 "nbformat": 4,
 "nbformat_minor": 5
}
